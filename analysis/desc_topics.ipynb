{
 "cells": [
  {
   "cell_type": "code",
   "execution_count": 1,
   "metadata": {},
   "outputs": [
    {
     "name": "stdout",
     "output_type": "stream",
     "text": [
      "0.7.1\n"
     ]
    }
   ],
   "source": [
    "import django\n",
    "import sys, os\n",
    "import platform\n",
    "import pandas as pd\n",
    "import matplotlib.pyplot as plt\n",
    "from datetime import timedelta\n",
    "import numpy as np\n",
    "\n",
    "if platform.node() == \"srv-mcc-apsis\":\n",
    "    sys.path.append(\"/home/galm/software/django/tmv/BasicBrowser/\")\n",
    "    #sys.path.append('/home/leey/tmv/BasicBrowser/')\n",
    "else:\n",
    "    # local paths\n",
    "    sys.path.append('/home/leey/Documents/Data/tmv/BasicBrowser/')\n",
    "os.environ.setdefault(\"DJANGO_SETTINGS_MODULE\", \"BasicBrowser.settings\")\n",
    "django.setup()\n",
    "\n",
    "#import from appended path\n",
    "import scoping.models as sm\n",
    "import twitter.models as tm\n",
    "import parliament.models as pm\n",
    "\n",
    "from django.db.models import Sum, Count\n",
    "from django.db.models.fields import DateField\n",
    "from django.db.models.functions import Cast\n",
    "import textwrap as tw\n",
    "import datetime\n",
    "import random\n",
    "\n",
    "import scoping.models as sm\n",
    "import igraph\n",
    "#import mpld3\n",
    "\n",
    "from adjustText import adjust_text\n",
    "\n",
    "print(igraph.__version__)"
   ]
  },
  {
   "cell_type": "code",
   "execution_count": null,
   "metadata": {},
   "outputs": [],
   "source": [
    "# create project and save tweets to project for easier callup "
   ]
  },
  {
   "cell_type": "code",
   "execution_count": 2,
   "metadata": {},
   "outputs": [],
   "source": [
    "terms =  [\n",
    "    '#Kohlekommission',\n",
    "    '#Kohleausstieg',\n",
    "    '#Hambibleibt'\n",
    "]"
   ]
  },
  {
   "cell_type": "code",
   "execution_count": 3,
   "metadata": {},
   "outputs": [
    {
     "name": "stdout",
     "output_type": "stream",
     "text": [
      "\n",
      "#Kohlekommission: 13928\n",
      "most retweeted: 409\n",
      "campact - @campact - 2018-08-24 09:42:14+00:00\n",
      "Wenn es nach @RWE_AG geht, soll einer der ältesten Wälder Deutschlands für eine Technologie weichen, deren Ende beschlossene Sache ist. Wir appellieren an die #Kohlekommission und die #Bundesregierung: Retten Sie den #HambacherForst! Hier unterzeichnen: https://t.co/lsjUFgc1NX https://t.co/nR6vJI826G\n",
      "\n",
      "#Kohleausstieg: 55079\n",
      "most retweeted: 538\n",
      "Ralph Goldmann - @RalphGoldmann - 2019-06-21 12:07:32+00:00\n",
      "Das muss man hochkant sehen. 😳 #FridaysForFurture #aachen #AC2106 #kohleausstieg @ZDFheute pic.twitter.com/5DpBpDbjKm\n",
      "\n",
      "#Hambibleibt: 120139\n",
      "most retweeted: 1180\n",
      "Raphael Thelen - @RaphaelThelen - 2018-10-06 13:14:12+00:00\n",
      "Die neuen besorgten Bürger: - 50.000 Menschen bei #Hambibleibt - 30.000 Menschen bei #wellcomeunited in Hamburg - 100.000 bei der #Seebrücke in ganz Deutschland - 65.000 bei #wirsindmehr in Chemnitz - 40.000 bei #nopag und #ausgehetzt in München Ist das der Linksruck?\n"
     ]
    }
   ],
   "source": [
    "for t in terms:\n",
    "    s, created = tm.TwitterSearch.objects.get_or_create(string=t)\n",
    "    print(f\"\\n{s.string}: {s.status_set.count()}\")\n",
    "    if s.status_set.count() > 1:\n",
    "        ms = s.status_set.order_by('-retweets_count').first()\n",
    "        print(f\"most retweeted: {ms.retweets_count}\")\n",
    "        print(f\"{ms.author} - {ms.created_at}\")\n",
    "        print(ms.text)"
   ]
  },
  {
   "cell_type": "code",
   "execution_count": null,
   "metadata": {},
   "outputs": [],
   "source": [
    "#run tm on tweets to get general idea "
   ]
  }
 ],
 "metadata": {
  "kernelspec": {
   "display_name": "tmv",
   "language": "python",
   "name": "tmv"
  },
  "language_info": {
   "codemirror_mode": {
    "name": "ipython",
    "version": 3
   },
   "file_extension": ".py",
   "mimetype": "text/x-python",
   "name": "python",
   "nbconvert_exporter": "python",
   "pygments_lexer": "ipython3",
   "version": "3.6.7"
  }
 },
 "nbformat": 4,
 "nbformat_minor": 2
}
