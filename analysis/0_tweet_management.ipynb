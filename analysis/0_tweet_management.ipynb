{
 "cells": [
  {
   "cell_type": "code",
   "execution_count": 1,
   "metadata": {},
   "outputs": [],
   "source": [
    "import sys\n",
    "import os\n",
    "\n",
    "import pandas as pd\n",
    "import datetime\n",
    "\n",
    "import django\n",
    "import platform\n",
    "\n",
    "if platform.node() == \"srv-mcc-apsis\":\n",
    "    #sys.path.append(\"/home/galm/software/django/tmv/BasicBrowser/\")\n",
    "    sys.path.append('/home/leey/tmv/BasicBrowser/')\n",
    "else:\n",
    "    # local paths\n",
    "    sys.path.append('/home/leey/Documents/Data/tmv/BasicBrowser/')\n",
    "\n",
    "os.environ.setdefault(\"DJANGO_SETTINGS_MODULE\", \"BasicBrowser.settings\")\n",
    "django.setup()\n",
    "\n",
    "# import from appended path\n",
    "import scoping.models as sm\n",
    "import twitter.models as tm\n",
    "from tmv_app.models import *\n",
    "\n",
    "import operator\n",
    "from django.db.models import Q\n",
    "from functools import reduce"
   ]
  },
  {
   "cell_type": "markdown",
   "metadata": {},
   "source": [
    "### checking TwitterSearch objects"
   ]
  },
  {
   "cell_type": "code",
   "execution_count": 38,
   "metadata": {},
   "outputs": [],
   "source": [
    "plist = [196, 228]"
   ]
  },
  {
   "cell_type": "code",
   "execution_count": 41,
   "metadata": {},
   "outputs": [],
   "source": [
    "ts = tm.TwitterSearch.objects.all().values_list('string', 'project', 'since', 'project_list')"
   ]
  },
  {
   "cell_type": "code",
   "execution_count": 42,
   "metadata": {
    "scrolled": false
   },
   "outputs": [
    {
     "data": {
      "text/html": [
       "<div>\n",
       "<style scoped>\n",
       "    .dataframe tbody tr th:only-of-type {\n",
       "        vertical-align: middle;\n",
       "    }\n",
       "\n",
       "    .dataframe tbody tr th {\n",
       "        vertical-align: top;\n",
       "    }\n",
       "\n",
       "    .dataframe thead th {\n",
       "        text-align: right;\n",
       "    }\n",
       "</style>\n",
       "<table border=\"1\" class=\"dataframe\">\n",
       "  <thead>\n",
       "    <tr style=\"text-align: right;\">\n",
       "      <th></th>\n",
       "      <th>string</th>\n",
       "      <th>project</th>\n",
       "      <th>since</th>\n",
       "      <th>project_list</th>\n",
       "    </tr>\n",
       "  </thead>\n",
       "  <tbody>\n",
       "    <tr>\n",
       "      <th>0</th>\n",
       "      <td>Kohlekommission</td>\n",
       "      <td>134.0</td>\n",
       "      <td>2009-11-05 09:31:44.480805+00:00</td>\n",
       "      <td>196.0</td>\n",
       "    </tr>\n",
       "    <tr>\n",
       "      <th>1</th>\n",
       "      <td>\"Kohleausstieg\"</td>\n",
       "      <td>185.0</td>\n",
       "      <td>2010-04-21 14:43:17.352458+00:00</td>\n",
       "      <td>196.0</td>\n",
       "    </tr>\n",
       "    <tr>\n",
       "      <th>2</th>\n",
       "      <td>#Hambibleibt</td>\n",
       "      <td>196.0</td>\n",
       "      <td>2010-01-15 02:37:39.062263+00:00</td>\n",
       "      <td>196.0</td>\n",
       "    </tr>\n",
       "    <tr>\n",
       "      <th>3</th>\n",
       "      <td>kohlefrei</td>\n",
       "      <td>196.0</td>\n",
       "      <td>NaT</td>\n",
       "      <td>196.0</td>\n",
       "    </tr>\n",
       "    <tr>\n",
       "      <th>4</th>\n",
       "      <td>Klima</td>\n",
       "      <td>196.0</td>\n",
       "      <td>NaT</td>\n",
       "      <td>228.0</td>\n",
       "    </tr>\n",
       "    <tr>\n",
       "      <th>5</th>\n",
       "      <td>Erderwärmung</td>\n",
       "      <td>196.0</td>\n",
       "      <td>NaT</td>\n",
       "      <td>228.0</td>\n",
       "    </tr>\n",
       "    <tr>\n",
       "      <th>6</th>\n",
       "      <td>globale Erwärmung</td>\n",
       "      <td>196.0</td>\n",
       "      <td>NaT</td>\n",
       "      <td>228.0</td>\n",
       "    </tr>\n",
       "    <tr>\n",
       "      <th>7</th>\n",
       "      <td>Treibhauseffekt</td>\n",
       "      <td>196.0</td>\n",
       "      <td>NaT</td>\n",
       "      <td>228.0</td>\n",
       "    </tr>\n",
       "    <tr>\n",
       "      <th>8</th>\n",
       "      <td>kohle</td>\n",
       "      <td>134.0</td>\n",
       "      <td>2009-11-05 09:31:44.480805+00:00</td>\n",
       "      <td>228.0</td>\n",
       "    </tr>\n",
       "  </tbody>\n",
       "</table>\n",
       "</div>"
      ],
      "text/plain": [
       "              string  project                            since  project_list\n",
       "0    Kohlekommission    134.0 2009-11-05 09:31:44.480805+00:00         196.0\n",
       "1    \"Kohleausstieg\"    185.0 2010-04-21 14:43:17.352458+00:00         196.0\n",
       "2       #Hambibleibt    196.0 2010-01-15 02:37:39.062263+00:00         196.0\n",
       "3          kohlefrei    196.0                              NaT         196.0\n",
       "4              Klima    196.0                              NaT         228.0\n",
       "5       Erderwärmung    196.0                              NaT         228.0\n",
       "6  globale Erwärmung    196.0                              NaT         228.0\n",
       "7    Treibhauseffekt    196.0                              NaT         228.0\n",
       "8              kohle    134.0 2009-11-05 09:31:44.480805+00:00         228.0"
      ]
     },
     "execution_count": 42,
     "metadata": {},
     "output_type": "execute_result"
    }
   ],
   "source": [
    "df_ts = pd.DataFrame(list(ts),columns=['string', 'project', 'since', 'project_list'])\n",
    "df_ts[df_ts.project_list.isin(plist)]"
   ]
  },
  {
   "cell_type": "markdown",
   "metadata": {},
   "source": [
    "---"
   ]
  },
  {
   "cell_type": "markdown",
   "metadata": {},
   "source": [
    "### Add TwitterSearch objects"
   ]
  },
  {
   "cell_type": "code",
   "execution_count": 5,
   "metadata": {},
   "outputs": [],
   "source": [
    "# Add climate baseline terms\n",
    "\n",
    "terms = ['Klima', 'Erderwärmung', 'globale Erwärmung','Treibhauseffekt']\n",
    "\n",
    "for term in terms:\n",
    "    t, created = tm.TwitterSearch.objects.get_or_create(\n",
    "    string = term,\n",
    "    project = sm.Project.objects.get(pk=196),\n",
    "    )\n",
    "    t.project_list.add(sm.Project.objects.get(pk=196))\n",
    "    t.save()"
   ]
  },
  {
   "cell_type": "code",
   "execution_count": 28,
   "metadata": {},
   "outputs": [],
   "source": [
    "# amend project association\n",
    "terms = ['Klima', 'Erderwärmung', 'globale Erwärmung','Treibhauseffekt']\n",
    "\n",
    "for term in terms:\n",
    "    t = tm.TwitterSearch.objects.get(\n",
    "    string = term\n",
    "    )\n",
    "    t.project_list.add(sm.Project.objects.get(pk=228))\n",
    "    t.project_list.remove(sm.Project.objects.get(pk=196))\n",
    "    t.save()"
   ]
  },
  {
   "cell_type": "code",
   "execution_count": 2,
   "metadata": {},
   "outputs": [],
   "source": [
    "# Add coal exit terms \n",
    "\n",
    "terms = ['kohlefrei']\n",
    "\n",
    "for term in terms:\n",
    "    t, created = tm.TwitterSearch.objects.get_or_create(\n",
    "        string = term,\n",
    "        project = sm.Project.objects.get(pk=196)\n",
    "    )\n",
    "    t.project_list.add(sm.Project.objects.get(pk=196))\n",
    "    t.save()"
   ]
  },
  {
   "cell_type": "markdown",
   "metadata": {},
   "source": [
    "### Add TwitterSearch objects to project_list"
   ]
  },
  {
   "cell_type": "code",
   "execution_count": 13,
   "metadata": {},
   "outputs": [],
   "source": [
    "plist_terms =  [\n",
    "    'Kohlekommission',\n",
    "    '\"Kohleausstieg\"',\n",
    "    #'#Kohlekommission',\n",
    "    #'#Kohleausstieg',\n",
    "    '#Hambibleibt',\n",
    "    ]\n",
    "\n",
    "for term in plist_terms:\n",
    "    t =  tm.TwitterSearch.objects.get(string=term)\n",
    "    t.project_list.add(sm.Project.objects.get(pk=196))"
   ]
  },
  {
   "cell_type": "code",
   "execution_count": 43,
   "metadata": {},
   "outputs": [],
   "source": [
    "t =  tm.TwitterSearch.objects.get(string='kohle')\n",
    "t.project_list.remove(sm.Project.objects.get(pk=228))"
   ]
  },
  {
   "cell_type": "markdown",
   "metadata": {},
   "source": [
    "### Add relevant kohle tweets to new project"
   ]
  },
  {
   "cell_type": "code",
   "execution_count": 4,
   "metadata": {},
   "outputs": [],
   "source": [
    "p1 = sm.Project.objects.get(pk=228)\n",
    "\n",
    "p1.title = 'Climate baseline tweets'"
   ]
  },
  {
   "cell_type": "code",
   "execution_count": 10,
   "metadata": {},
   "outputs": [
    {
     "data": {
      "text/plain": [
       "1079456"
      ]
     },
     "execution_count": 10,
     "metadata": {},
     "output_type": "execute_result"
    }
   ],
   "source": [
    "kt = tm.Status.objects.filter(text__icontains=\"Kohle\")\n",
    "kt.count()"
   ]
  },
  {
   "cell_type": "code",
   "execution_count": 17,
   "metadata": {},
   "outputs": [
    {
     "data": {
      "text/plain": [
       "1132554"
      ]
     },
     "execution_count": 17,
     "metadata": {},
     "output_type": "execute_result"
    }
   ],
   "source": [
    "# Q lookup must precede any keyword argument\n",
    "ktf = tm.Status.objects.filter(\n",
    "    Q(text__icontains = '#hambacherforst') |\n",
    "    Q(text__icontains = '#fridaysforfuture') |\n",
    "    Q(text__icontains = '#endegelaende') |\n",
    "    Q(text__icontains = '#hambacherwald') |\n",
    "    Q(text__icontains = '#lausitz') |\n",
    "    Q(text__icontains = '#klimaschutz') |\n",
    "    Q(text__icontains = '#klimawandel') |\n",
    "    Q(text__icontains = '#klimakrise') |\n",
    "    Q(text__icontains = '#klima')\n",
    ")\n",
    "#.filter(text__icontains=\"Kohle\")\n",
    "\n",
    "ktf.count()"
   ]
  },
  {
   "cell_type": "code",
   "execution_count": 18,
   "metadata": {},
   "outputs": [
    {
     "data": {
      "text/plain": [
       "94008"
      ]
     },
     "execution_count": 18,
     "metadata": {},
     "output_type": "execute_result"
    }
   ],
   "source": [
    "ktff = ktf.filter(\n",
    "    text__icontains=\"Kohle\"\n",
    ")\n",
    "ktff.count()"
   ]
  },
  {
   "cell_type": "code",
   "execution_count": 19,
   "metadata": {},
   "outputs": [],
   "source": [
    "# add filtered tweets to new project \n",
    "# you can't do this - can only add project to twittersearch object! "
   ]
  },
  {
   "cell_type": "markdown",
   "metadata": {},
   "source": [
    "### Checking tweets"
   ]
  },
  {
   "cell_type": "code",
   "execution_count": 4,
   "metadata": {},
   "outputs": [],
   "source": [
    "p = sm.Project.objects.get(pk=196)"
   ]
  },
  {
   "cell_type": "code",
   "execution_count": 5,
   "metadata": {},
   "outputs": [],
   "source": [
    "end_date = datetime.datetime.strptime('2019-10-01-+0000', '%Y-%m-%d-%z')"
   ]
  },
  {
   "cell_type": "code",
   "execution_count": 6,
   "metadata": {},
   "outputs": [
    {
     "name": "stdout",
     "output_type": "stream",
     "text": [
      "945086\n"
     ]
    }
   ],
   "source": [
    "# Get tweets related to the project\n",
    "searches = tm.TwitterSearch.objects.filter(project_list=p)\n",
    "\n",
    "ttweets = set(tm.Status.objects.filter(\n",
    "    searches__in=searches,\n",
    "    text__isnull=False,\n",
    "    retweeted_status__isnull=True,\n",
    "    created_at__lte=end_date\n",
    ").values_list('id',flat=True))\n",
    "\n",
    "print(len(ttweets))"
   ]
  },
  {
   "cell_type": "code",
   "execution_count": null,
   "metadata": {},
   "outputs": [],
   "source": []
  }
 ],
 "metadata": {
  "kernelspec": {
   "display_name": "tmv_yt",
   "language": "python",
   "name": "tmv_yt"
  },
  "language_info": {
   "codemirror_mode": {
    "name": "ipython",
    "version": 3
   },
   "file_extension": ".py",
   "mimetype": "text/x-python",
   "name": "python",
   "nbconvert_exporter": "python",
   "pygments_lexer": "ipython3",
   "version": "3.6.6"
  }
 },
 "nbformat": 4,
 "nbformat_minor": 2
}
