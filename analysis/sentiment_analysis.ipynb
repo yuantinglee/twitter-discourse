{
 "cells": [
  {
   "cell_type": "code",
   "execution_count": 1,
   "metadata": {},
   "outputs": [],
   "source": [
    "import django\n",
    "import sys, os\n",
    "import platform\n",
    "import pandas as pd\n",
    "import matplotlib.pyplot as plt\n",
    "import seaborn as sns\n",
    "from datetime import timedelta\n",
    "import numpy as np\n",
    "\n",
    "if platform.node() == \"srv-mcc-apsis\":\n",
    "    #sys.path.append(\"/home/galm/software/django/tmv/BasicBrowser/\")\n",
    "    sys.path.append('/home/leey/tmv/BasicBrowser/')\n",
    "else:\n",
    "    # local paths\n",
    "    sys.path.append('/home/leey/Documents/Data/tmv/BasicBrowser/')\n",
    "os.environ.setdefault(\"DJANGO_SETTINGS_MODULE\", \"BasicBrowser.settings\")\n",
    "django.setup()\n",
    "\n",
    "#import from appended path\n",
    "import scoping.models as sm\n",
    "import twitter.models as tm\n",
    "import parliament.models as pm\n",
    "\n",
    "from django.db.models import Sum, Count\n",
    "from django.db.models.fields import DateField\n",
    "from django.db.models.functions import Cast\n",
    "import textwrap as tw\n",
    "import datetime\n",
    "import random\n",
    "\n",
    "import igraph\n",
    "#import mpld3\n",
    "\n",
    "from adjustText import adjust_text"
   ]
  },
  {
   "cell_type": "code",
   "execution_count": 2,
   "metadata": {},
   "outputs": [],
   "source": [
    "p = sm.Project.objects.get(pk=196)"
   ]
  },
  {
   "cell_type": "code",
   "execution_count": 3,
   "metadata": {},
   "outputs": [],
   "source": [
    "end_date = datetime.datetime.strptime('2019-09-30-+0000', '%Y-%m-%d-%z')"
   ]
  },
  {
   "cell_type": "code",
   "execution_count": 4,
   "metadata": {},
   "outputs": [],
   "source": [
    "# Get tweets related to the project\n",
    "searches = tm.TwitterSearch.objects.filter(project=p)\n",
    "\n",
    "ttweets = set(tm.Status.objects.filter(\n",
    "    searches__in=searches,\n",
    "    text__isnull=False,\n",
    "    retweeted_status__isnull=True,\n",
    "    created_at__lte=end_date\n",
    ").values_list('id',flat=True))"
   ]
  },
  {
   "cell_type": "code",
   "execution_count": 5,
   "metadata": {},
   "outputs": [
    {
     "name": "stdout",
     "output_type": "stream",
     "text": [
      "117443\n"
     ]
    }
   ],
   "source": [
    "print(len(ttweets))"
   ]
  },
  {
   "cell_type": "markdown",
   "metadata": {},
   "source": [
    "import pickle\n",
    "\n",
    "pickle_out = open(\"ttweets.pickle\",\"wb\")\n",
    "pickle.dump(ttweets, pickle_out)\n",
    "pickle_out.close()"
   ]
  },
  {
   "cell_type": "markdown",
   "metadata": {},
   "source": [
    "---"
   ]
  },
  {
   "cell_type": "markdown",
   "metadata": {},
   "source": [
    "## Language from BaseModel"
   ]
  },
  {
   "cell_type": "code",
   "execution_count": 6,
   "metadata": {},
   "outputs": [],
   "source": [
    "random.seed(123)\n",
    "test_texts = tm.Status.objects.filter(\n",
    "    id__in=random.sample(ttweets, 1000)\n",
    ").values_list('text', 'lang')"
   ]
  },
  {
   "cell_type": "code",
   "execution_count": 8,
   "metadata": {},
   "outputs": [],
   "source": [
    "df_test = pd.DataFrame(list(test_texts), columns=['text', 'lang'])"
   ]
  },
  {
   "cell_type": "code",
   "execution_count": 10,
   "metadata": {},
   "outputs": [],
   "source": [
    "df_test.to_csv(\"df_test.csv\")"
   ]
  },
  {
   "cell_type": "code",
   "execution_count": 11,
   "metadata": {},
   "outputs": [],
   "source": [
    "is_de = df_test[\"lang\"]==\"de\"\n",
    "df_de = df_test[is_de]"
   ]
  },
  {
   "cell_type": "code",
   "execution_count": null,
   "metadata": {},
   "outputs": [],
   "source": [
    "df_de.head()"
   ]
  },
  {
   "cell_type": "code",
   "execution_count": 13,
   "metadata": {},
   "outputs": [],
   "source": [
    "df_de.to_csv('df_de.csv')"
   ]
  },
  {
   "cell_type": "markdown",
   "metadata": {},
   "source": [
    "---"
   ]
  },
  {
   "cell_type": "markdown",
   "metadata": {},
   "source": [
    "## Sentiment Analysis"
   ]
  },
  {
   "cell_type": "code",
   "execution_count": 15,
   "metadata": {},
   "outputs": [],
   "source": [
    "import spacy\n",
    "from spacy_sentiws import spaCySentiWS\n",
    "\n",
    "nlp = spacy.load('de')\n",
    "sentiws = spaCySentiWS(sentiws_path='../SentiWS')\n",
    "nlp.add_pipe(sentiws)"
   ]
  },
  {
   "cell_type": "code",
   "execution_count": 6,
   "metadata": {},
   "outputs": [],
   "source": [
    "def get_senti_score(tweet):\n",
    "    \"\"\"gets the score of a tweet from SentiWS\"\"\"\n",
    "    scores = []\n",
    "    for token in tweet:\n",
    "        score = token._.sentiws\n",
    "        if score is not None:\n",
    "            scores.append(score)\n",
    "    \n",
    "    if sum(scores) != 0:\n",
    "        return sum(scores)/len(scores)\n",
    "    else:\n",
    "        return 0"
   ]
  },
  {
   "cell_type": "markdown",
   "metadata": {},
   "source": [
    "### testing on small set"
   ]
  },
  {
   "cell_type": "code",
   "execution_count": 16,
   "metadata": {},
   "outputs": [
    {
     "data": {
      "text/plain": [
       "'Mensch mit Kamera im #HambacherForst von der Polizei niedergeknüppelt und festgenommen.#HambacherForstBleibt #HambiBleibt #HFB #DankePolizei'"
      ]
     },
     "execution_count": 16,
     "metadata": {},
     "output_type": "execute_result"
    }
   ],
   "source": [
    "df_de.iloc[0]['text']"
   ]
  },
  {
   "cell_type": "code",
   "execution_count": 17,
   "metadata": {},
   "outputs": [
    {
     "name": "stdout",
     "output_type": "stream",
     "text": [
      "Mensch, None, NOUN\n",
      "mit, None, ADP\n",
      "Kamera, None, NOUN\n",
      "im, None, ADP\n",
      "#, None, NOUN\n",
      "HambacherForst, None, PROPN\n",
      "von, None, ADP\n",
      "der, None, DET\n",
      "Polizei, None, NOUN\n",
      "niedergeknüppelt, None, VERB\n",
      "und, None, CONJ\n",
      "festgenommen.#HambacherForstBleibt, None, PROPN\n",
      "#, None, NOUN\n",
      "HambiBleibt, None, PROPN\n",
      "#, None, NOUN\n",
      "HFB, None, PROPN\n",
      "#, None, PROPN\n",
      "DankePolizei, None, NOUN\n"
     ]
    }
   ],
   "source": [
    "doc = nlp(df_de.iloc[0]['text'])\n",
    "for token in doc: \n",
    "    print('{}, {}, {}'.format(token.text, token._.sentiws, token.pos_))"
   ]
  },
  {
   "cell_type": "code",
   "execution_count": 23,
   "metadata": {},
   "outputs": [
    {
     "data": {
      "text/plain": [
       "0"
      ]
     },
     "execution_count": 23,
     "metadata": {},
     "output_type": "execute_result"
    }
   ],
   "source": [
    "get_senti_score(doc)"
   ]
  },
  {
   "cell_type": "code",
   "execution_count": 24,
   "metadata": {},
   "outputs": [],
   "source": [
    "tweet_scores = []\n",
    "for i in df_de.index:\n",
    "    entry = df_de.loc[i]\n",
    "    doc = nlp(entry['text'])\n",
    "    tweet_score = get_senti_score(doc)\n",
    "    tweet_scores.append(tweet_score)"
   ]
  },
  {
   "cell_type": "code",
   "execution_count": null,
   "metadata": {},
   "outputs": [],
   "source": [
    "df_de['score'] = tweet_scores"
   ]
  },
  {
   "cell_type": "code",
   "execution_count": 28,
   "metadata": {},
   "outputs": [],
   "source": [
    "df_de.to_csv(\"df_de_scores2.csv\")"
   ]
  },
  {
   "cell_type": "code",
   "execution_count": 26,
   "metadata": {},
   "outputs": [
    {
     "name": "stdout",
     "output_type": "stream",
     "text": [
      "#Bundesregierung #RWE #19sept2018 für #Hambibleibt Journalist bricht durch 1 Hängebrücke als Polizisten mit räumen begannen! :( https://t.co/7RNZGNHf4f\n",
      "Sacht ma @ArminLaschet , @hreul und @Polizei_NRW_AC ,\n",
      "irgendwie haben sich bei Euch doch die Prioritäten sehr bedenklich verschoben ..,\n",
      "Der Junge ist 6!\n",
      "Aber #Nazis dürfen in #Dortmund machen, was sie wollen ..\n",
      "\n",
      "#HambacherForst\n",
      "#HambiBleibt https://t.co/lO3J4GQuNj\n",
      "@KathrinAnna Jeder der vor Ort ist, sieht es.\n",
      "\n",
      "Seit Monaten wird darauf hingewiesen, dass das Heranrücken der Bagger auf 50m den #HambacherForst gefährdet. \n",
      "\n",
      "Aber die Landesregierung lässt RWE gewähren und verleugnet die Gefahr, die für den Wald entsteht.\n",
      "Verlogener geht es kaum.\n",
      "#HambiBleibt\n",
      "https://t.co/Hon60q6QpE die Umweltverbrecher von #RWE heulen jetzt auch noch kindisch herum. Ihr seid total lächerlich. Für eure Insolvenz stelle ich mir jede Menge Champus kalt.. #Mimimi #HambacherForst #Hambibleibt\n",
      "bei diesem wetter auf waldboden hubsteiger aufstellen zu wollen halte ich für extremst gefährlich @Polizei_NRW_AC @RWE_AG  #hambibleibt #hambacherforst\n"
     ]
    }
   ],
   "source": [
    "most_neg = df_de.sort_values(by=['score'])[0:5]\n",
    "for i in most_neg.index:\n",
    "    print(most_neg.loc[i]['text'])"
   ]
  },
  {
   "cell_type": "code",
   "execution_count": 27,
   "metadata": {},
   "outputs": [
    {
     "name": "stdout",
     "output_type": "stream",
     "text": [
      "#HambacherForst #Hambibleibt https://t.co/PAZuNifsls Nach der Europawahl sind in NRW nur die Grünen euphorisch - NRZ News\n",
      "@revomage @JennyD35311900 Ist bestimmt auch toll, die Neuigkeiten - dich selbst betreffend - vom Kollegen zu erfahren 🙄\n",
      "\n",
      "#HambacherForst #Hambibleibt #NoPolGNRW\n",
      "Super Stimmung bei der @EndeGelaendeLE Demo! \n",
      "\n",
      "#stopcoal #hambibleibt #FridaysForFuture #Kohleausstieg https://t.co/MyoPzLRZTN\n",
      "Die Rede ist super, aber es ist zum Kotzen, dass der Saal mal wieder halb voll ist und die meisten lesen oder auf ihr Handy starren. So kann keine Politik für das Volk gemacht werden. #CDU #SPD #HambacherForst #hambibleibt https://t.co/VED4CjqN9h\n",
      "#RWE Hetze widerlich! #HambacherForst #HambiBleibt Feiert Weihnachten ihr Spacken!!! https://t.co/Wpr1Q7ZQHh\n"
     ]
    }
   ],
   "source": [
    "most_pos = df_de.sort_values(by=['score'], ascending=False)[0:5]\n",
    "for i in most_pos.index:\n",
    "    print(most_pos.loc[i]['text'])"
   ]
  },
  {
   "cell_type": "markdown",
   "metadata": {},
   "source": [
    "---"
   ]
  },
  {
   "cell_type": "markdown",
   "metadata": {},
   "source": [
    "### actual"
   ]
  },
  {
   "cell_type": "code",
   "execution_count": 8,
   "metadata": {},
   "outputs": [],
   "source": [
    "texts = tm.Status.objects.filter(\n",
    "    id__in=ttweets\n",
    ").values_list('id','created_at','text', 'lang')"
   ]
  },
  {
   "cell_type": "code",
   "execution_count": 9,
   "metadata": {},
   "outputs": [],
   "source": [
    "df_texts = pd.DataFrame(list(texts), columns=['id','created_at','text', 'lang'])"
   ]
  },
  {
   "cell_type": "code",
   "execution_count": 13,
   "metadata": {
    "scrolled": false
   },
   "outputs": [],
   "source": [
    "is_de = df_texts[\"lang\"]==\"de\"\n",
    "texts_de = df_texts[is_de]"
   ]
  },
  {
   "cell_type": "code",
   "execution_count": 16,
   "metadata": {},
   "outputs": [],
   "source": [
    "texts_scores = []\n",
    "for i in texts_de.index:\n",
    "    entry = texts_de.loc[i]\n",
    "    doc = nlp(entry['text'])\n",
    "    tweet_score = get_senti_score(doc)\n",
    "    texts_scores.append(tweet_score)"
   ]
  },
  {
   "cell_type": "code",
   "execution_count": 18,
   "metadata": {
    "scrolled": true
   },
   "outputs": [
    {
     "name": "stderr",
     "output_type": "stream",
     "text": [
      "/home/leey/tmv/BasicBrowser/venv/lib/python3.6/site-packages/ipykernel_launcher.py:1: SettingWithCopyWarning: \n",
      "A value is trying to be set on a copy of a slice from a DataFrame.\n",
      "Try using .loc[row_indexer,col_indexer] = value instead\n",
      "\n",
      "See the caveats in the documentation: http://pandas.pydata.org/pandas-docs/stable/indexing.html#indexing-view-versus-copy\n",
      "  \"\"\"Entry point for launching an IPython kernel.\n"
     ]
    }
   ],
   "source": [
    "texts_de['score'] = texts_scores"
   ]
  },
  {
   "cell_type": "code",
   "execution_count": 19,
   "metadata": {},
   "outputs": [],
   "source": [
    "texts_de.to_csv('texts_de.csv')"
   ]
  },
  {
   "cell_type": "markdown",
   "metadata": {},
   "source": [
    "---"
   ]
  },
  {
   "cell_type": "markdown",
   "metadata": {},
   "source": [
    "### Results"
   ]
  },
  {
   "cell_type": "code",
   "execution_count": 27,
   "metadata": {},
   "outputs": [],
   "source": [
    "texts_de = pd.read_csv('texts_de.csv', index_col=[0])"
   ]
  },
  {
   "cell_type": "code",
   "execution_count": 28,
   "metadata": {},
   "outputs": [
    {
     "data": {
      "text/html": [
       "<div>\n",
       "<style scoped>\n",
       "    .dataframe tbody tr th:only-of-type {\n",
       "        vertical-align: middle;\n",
       "    }\n",
       "\n",
       "    .dataframe tbody tr th {\n",
       "        vertical-align: top;\n",
       "    }\n",
       "\n",
       "    .dataframe thead th {\n",
       "        text-align: right;\n",
       "    }\n",
       "</style>\n",
       "<table border=\"1\" class=\"dataframe\">\n",
       "  <thead>\n",
       "    <tr style=\"text-align: right;\">\n",
       "      <th></th>\n",
       "      <th>id</th>\n",
       "      <th>created_at</th>\n",
       "      <th>text</th>\n",
       "      <th>lang</th>\n",
       "      <th>score</th>\n",
       "    </tr>\n",
       "  </thead>\n",
       "  <tbody>\n",
       "    <tr>\n",
       "      <th>1</th>\n",
       "      <td>528122630713659392</td>\n",
       "      <td>2014-10-31 09:53:41+00:00</td>\n",
       "      <td>Im #HambacherForst  sollen 14 AktivistInnen in...</td>\n",
       "      <td>de</td>\n",
       "      <td>0.004</td>\n",
       "    </tr>\n",
       "    <tr>\n",
       "      <th>2</th>\n",
       "      <td>577450523584028672</td>\n",
       "      <td>2015-03-16 12:45:07+00:00</td>\n",
       "      <td>Respekt! http://t.co/XJQNOirzV8 #hambibleibt #...</td>\n",
       "      <td>de</td>\n",
       "      <td>0.004</td>\n",
       "    </tr>\n",
       "    <tr>\n",
       "      <th>3</th>\n",
       "      <td>581213134297407490</td>\n",
       "      <td>2015-03-26 21:56:24+00:00</td>\n",
       "      <td>SpiegelTV und \"Die Rächer vom Hambach Forrest\"...</td>\n",
       "      <td>de</td>\n",
       "      <td>0.000</td>\n",
       "    </tr>\n",
       "    <tr>\n",
       "      <th>4</th>\n",
       "      <td>593204650486136832</td>\n",
       "      <td>2015-04-29 00:06:24+00:00</td>\n",
       "      <td>Im #HambacherForst wurde eine bewohnte Barrika...</td>\n",
       "      <td>de</td>\n",
       "      <td>0.004</td>\n",
       "    </tr>\n",
       "    <tr>\n",
       "      <th>5</th>\n",
       "      <td>593550790431768576</td>\n",
       "      <td>2015-04-29 23:01:50+00:00</td>\n",
       "      <td>#Solidarität mit den BesetzerInnen vom @Hambac...</td>\n",
       "      <td>de</td>\n",
       "      <td>0.004</td>\n",
       "    </tr>\n",
       "  </tbody>\n",
       "</table>\n",
       "</div>"
      ],
      "text/plain": [
       "                   id                 created_at  \\\n",
       "1  528122630713659392  2014-10-31 09:53:41+00:00   \n",
       "2  577450523584028672  2015-03-16 12:45:07+00:00   \n",
       "3  581213134297407490  2015-03-26 21:56:24+00:00   \n",
       "4  593204650486136832  2015-04-29 00:06:24+00:00   \n",
       "5  593550790431768576  2015-04-29 23:01:50+00:00   \n",
       "\n",
       "                                                text lang  score  \n",
       "1  Im #HambacherForst  sollen 14 AktivistInnen in...   de  0.004  \n",
       "2  Respekt! http://t.co/XJQNOirzV8 #hambibleibt #...   de  0.004  \n",
       "3  SpiegelTV und \"Die Rächer vom Hambach Forrest\"...   de  0.000  \n",
       "4  Im #HambacherForst wurde eine bewohnte Barrika...   de  0.004  \n",
       "5  #Solidarität mit den BesetzerInnen vom @Hambac...   de  0.004  "
      ]
     },
     "execution_count": 28,
     "metadata": {},
     "output_type": "execute_result"
    }
   ],
   "source": [
    "texts_de.head()"
   ]
  },
  {
   "cell_type": "code",
   "execution_count": 21,
   "metadata": {},
   "outputs": [
    {
     "data": {
      "text/plain": [
       "91524"
      ]
     },
     "execution_count": 21,
     "metadata": {},
     "output_type": "execute_result"
    }
   ],
   "source": [
    "len(texts_de)"
   ]
  },
  {
   "cell_type": "code",
   "execution_count": 22,
   "metadata": {},
   "outputs": [
    {
     "data": {
      "text/plain": [
       "-0.014064564744962675"
      ]
     },
     "execution_count": 22,
     "metadata": {},
     "output_type": "execute_result"
    }
   ],
   "source": [
    "average_score = sum(texts_de['score'])/len(texts_de['score'])\n",
    "average_score"
   ]
  },
  {
   "cell_type": "code",
   "execution_count": 23,
   "metadata": {},
   "outputs": [
    {
     "data": {
      "text/plain": [
       "<Figure size 432x288 with 0 Axes>"
      ]
     },
     "execution_count": 23,
     "metadata": {},
     "output_type": "execute_result"
    },
    {
     "data": {
      "image/png": "[encoded data removed]",
      "text/plain": [
       "<Figure size 720x576 with 1 Axes>"
      ]
     },
     "metadata": {},
     "output_type": "display_data"
    },
    {
     "data": {
      "text/plain": [
       "<Figure size 432x288 with 0 Axes>"
      ]
     },
     "metadata": {},
     "output_type": "display_data"
    }
   ],
   "source": [
    "fig, ax = plt.subplots(figsize=(10,8))\n",
    "\n",
    "texts_de['score'].plot.kde()\n",
    "\n",
    "plt.figure()"
   ]
  },
  {
   "cell_type": "code",
   "execution_count": 46,
   "metadata": {},
   "outputs": [
    {
     "data": {
      "text/plain": [
       "<Figure size 432x288 with 0 Axes>"
      ]
     },
     "execution_count": 46,
     "metadata": {},
     "output_type": "execute_result"
    },
    {
     "data": {
      "image/png": "[encoded data removed]",
      "text/plain": [
       "<Figure size 720x576 with 1 Axes>"
      ]
     },
     "metadata": {},
     "output_type": "display_data"
    },
    {
     "data": {
      "text/plain": [
       "<Figure size 432x288 with 0 Axes>"
      ]
     },
     "metadata": {},
     "output_type": "display_data"
    }
   ],
   "source": [
    "fig, ax = plt.subplots(figsize=(10,8))\n",
    "\n",
    "texts_de['score'].plot.hist()\n",
    "\n",
    "plt.figure()"
   ]
  },
  {
   "cell_type": "code",
   "execution_count": 40,
   "metadata": {},
   "outputs": [
    {
     "name": "stdout",
     "output_type": "stream",
     "text": [
      "#HambacherForst #Hambibleibt https://t.co/uUBOs2lkrU Archiv für alternatives Schrifttum in Duisburg - \"Gegenüberlieferung\" in Gefahr - Deutschlandfunk\n",
      "Verfolgen Sie den ganzen ersten #WaldSpaziergang live mit all seinen Aktionen und betreten Sie nun den #Hambacherforst (immer noch Gefahr von Rodung).\n",
      "#AlleDörferBleiben #HambiBleibt #ExtinctionRebellion #FridaysForFuture #EndeGelände\n",
      "https://t.co/8wCCvh7jUP via @YouTube\n",
      "@Rembrandt1405 @Umweltgutachter @DieGutenNbg @csommer @spd_fraktion_nw Bitte? Was sind die denn schon gegen die drohende Gefahr eines #Ökomob|s 🧐\n",
      "\n",
      "#hambacherforst #hambacherwald #hambibleibt\n",
      "#HambacherForst #Hambibleibt https://t.co/bfMaewod37 Polizeichef: Derzeit keine „reale Gefahr“ für den Hambacher Forst - Aachener Nachrichten\n",
      "18:47 Die #Polizei bringt Menschen  in Lorien in Gefahr, wir bitten die #Presse nach Lorien zu kommen! \n",
      "#HambacherForst \n",
      "#Hambibleibt\n",
      "@JohannNeuge Ohne Hitlergruß sehe ich da kaum Chancen. Wie soll die #Pegizei sonst erkennen, dass von euch keine Gefahr ausgeht?\n",
      "\n",
      "#Hambibleibt #HambacherForst\n",
      "#hambibleibt #Manheimlebt \n",
      "\n",
      "Hier nochmal so ein übles Plakat der Demo heute. Was ist in die gefahren???! https://t.co/hJt2xVE5hQ\n",
      "Wann beginnt die #Polizei_nrw_ac endlich damit, uns vor den von #RWE ausgehenden Gefahren zu schützen😡?\n",
      "🗣Trotz #reuls Gemauschel mit #NRWE ist die Polizei nicht die Kohlizei❗️\n",
      "#hambibleibt \n",
      "#alledoerferbleiben \n",
      "#AlleFuersKlima https://t.co/GoJfB0DN9P\n",
      "Danke an all die Menschen die im #HambacherForst um jeden Baum kaempfen und sich evtl in Gefahr bringen. Passt auf Euch auf...!!! #HambiBleibt\n",
      "@hreul @ArminLaschet Warum so zimperlich mit demonstrierenden Schülern #FridaysforFuture? Ingewahrsamnahme bis zu einem Monat bei terroristischen Gefahren. Ist doch in Ihren Augen eine Mischpoke. #EndCoal #hambibleibt\n"
     ]
    }
   ],
   "source": [
    "most_neg = texts_de.sort_values(by=['score'])[0:10]\n",
    "for i in most_neg.index:\n",
    "    print(most_neg.loc[i]['text'])"
   ]
  },
  {
   "cell_type": "code",
   "execution_count": 41,
   "metadata": {},
   "outputs": [
    {
     "name": "stdout",
     "output_type": "stream",
     "text": [
      "JETZT gelungene, untendenziöse Doku zum #HambacherForst im @WDR Fernsehen \"Bäume oder Braunkohle\" \n",
      "#Hambi #hambibleibt\n",
      "#Karlsruhe tanzt für den #Kohleausstieg! Was für ein Gelungener Tag. #EndeGelaende #hambibleibt! @Ende__Gelaende #KoKolores https://t.co/p42aT70Y4S\n",
      "Danke Edwin Kronschnabel für die gelungene Satire! @KronschnabelMV (Das Landesamt für Besoldung NRW zahlt für die und für mich, schon lustig. Und das Ministergehalt von @hreul. Bitter. #hambibleibt ) https://t.co/ZnlpbPn5sI\n",
      "Nach einem gelungen Aktionstraining, gibt es jetzt erstmal KÜFA und um 16.30 eine #HambiBleibt Demo in #Aachen. #AktionUnterholz #stopcoal #EndeGelände https://t.co/FmvnFlYJhc\n",
      "Ein sehr gelungener Thread über den #Hambi, die Besetzung, Ideale etc #hambibleibt #HambacherForst https://t.co/mgqXolG1Sv\n",
      "Gelungene Premiere in Fürth - Danke @FridaysForFut12 \n",
      "#FridaysForFurture #ParentsForFuture #ScientistsForFuture #alledörferbleiben #hambibleibt https://t.co/PcC7htJMSF\n",
      "So wird der Samstag der perfekten Demotag. #hambibleibt https://t.co/MlmsqtSMiW\n",
      "Perfekte Schneeverhältnisse in Südamerika \n",
      "#hambibleibt #eiszeit #fff #f4f #FridaysForFuture https://t.co/lgH11gd1GD\n",
      "10.00 perfekt platziert unter dem Dachabfluss. Bäume für den #hambibleibt auf dem Vorplatz des Messegebäudes. #e0305 #irRWEgestoppen https://t.co/z3EiZUf5xc\n",
      "Tipps für den perfekten Demotag - Tips for the perfect demo-day #HambiBleibt #HambacherForst  - tomorrow 06th of October 2018!!!... #ClimateJustice #EndCoal #Rally #Demonstration #HambachForest #Tipps #Tips &gt;&gt;&gt; https://t.co/c2dfkI7vAp\n"
     ]
    }
   ],
   "source": [
    "most_pos = texts_de.sort_values(by=['score'], ascending=False)[0:10]\n",
    "for i in most_pos.index:\n",
    "    print(most_pos.loc[i]['text'])"
   ]
  },
  {
   "cell_type": "code",
   "execution_count": 30,
   "metadata": {},
   "outputs": [],
   "source": [
    "# score against time\n",
    "texts_de['created_at'] =  pd.to_datetime(texts_de['created_at'])"
   ]
  },
  {
   "cell_type": "code",
   "execution_count": 41,
   "metadata": {},
   "outputs": [
    {
     "data": {
      "image/png": "[encoded data removed]",
      "text/plain": [
       "<Figure size 864x576 with 1 Axes>"
      ]
     },
     "metadata": {},
     "output_type": "display_data"
    }
   ],
   "source": [
    "#fig, ax = plt.subplots()\n",
    "\n",
    "ax = texts_de.plot(x='created_at', y='score', figsize=(12,8), ls= '', marker='.')\n",
    "\n",
    "plt.show()"
   ]
  },
  {
   "cell_type": "code",
   "execution_count": null,
   "metadata": {},
   "outputs": [],
   "source": []
  }
 ],
 "metadata": {
  "kernelspec": {
   "display_name": "tmv_yt",
   "language": "python",
   "name": "tmv_yt"
  },
  "language_info": {
   "codemirror_mode": {
    "name": "ipython",
    "version": 3
   },
   "file_extension": ".py",
   "mimetype": "text/x-python",
   "name": "python",
   "nbconvert_exporter": "python",
   "pygments_lexer": "ipython3",
   "version": "3.6.6"
  }
 },
 "nbformat": 4,
 "nbformat_minor": 2
}
